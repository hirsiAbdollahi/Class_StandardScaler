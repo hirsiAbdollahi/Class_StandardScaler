{
 "cells": [
  {
   "cell_type": "markdown",
   "metadata": {},
   "source": [
    "# Standard Scaler from scratch:"
   ]
  },
  {
   "cell_type": "code",
   "execution_count": 1,
   "metadata": {},
   "outputs": [],
   "source": [
    "import numpy as np\n",
    "import pandas as pd\n",
    "\n",
    "class StandardScaler2():\n",
    "\n",
    "    def fit(self, X):\n",
    "        self.param_= {'mean':0, 'standard':0 }\n",
    "        \n",
    "        self.param_['mean'] = np.mean(X, axis=0)\n",
    "        self.param_['standard']= np.std(X - self.param_['mean'], axis=0)\n",
    "        \n",
    "        return self.param_\n",
    "\n",
    "    def transform(self, X):\n",
    "        try: \n",
    "            self.param_\n",
    "        except: \n",
    "            print('Error: first call fit method')\n",
    "        else: \n",
    "            return (X - self.param_['mean']) / self.param_['standard']\n",
    "\n",
    "    def fit_transform(self, X):\n",
    "        self.fit(X)\n",
    "        return self.transform(X)\n",
    "        \n"
   ]
  }
 ],
 "metadata": {
  "kernelspec": {
   "display_name": "Python 3",
   "language": "python",
   "name": "python3"
  },
  "language_info": {
   "codemirror_mode": {
    "name": "ipython",
    "version": 3
   },
   "file_extension": ".py",
   "mimetype": "text/x-python",
   "name": "python",
   "nbconvert_exporter": "python",
   "pygments_lexer": "ipython3",
   "version": "3.7.4"
  }
 },
 "nbformat": 4,
 "nbformat_minor": 2
}
